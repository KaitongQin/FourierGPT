{
 "cells": [
  {
   "cell_type": "code",
   "execution_count": 40,
   "metadata": {},
   "outputs": [],
   "source": [
    "import numpy as np\n",
    "import pandas as pd"
   ]
  },
  {
   "cell_type": "code",
   "execution_count": 41,
   "metadata": {},
   "outputs": [],
   "source": [
    "class SpectrumData():\n",
    "    def __init__(self, filename):\n",
    "        self.filename = filename\n",
    "        self.spectrum_df = self.read_df()\n",
    "    \n",
    "    def read_df(self):\n",
    "        return pd.read_csv(self.filename)\n",
    "    \n",
    "    def get_dict(self):\n",
    "        result = {}\n",
    "        for sid, sid_df in self.spectrum_df.groupby('sid'):\n",
    "            result[sid] = {}\n",
    "            for freq, freq_df in sid_df.groupby('freq'):\n",
    "                result[sid][freq] = freq_df['power'].values.tolist()\n",
    "        return result"
   ]
  },
  {
   "cell_type": "code",
   "execution_count": 42,
   "metadata": {},
   "outputs": [],
   "source": [
    "def classify_pair(x_human: dict, x_model: dict, eps: float = 0.0, higher: str = 'model'):\n",
    "    \"\"\"\n",
    "    逐个sid比较两个频谱结构\n",
    "    - x_human: dict[sid][freq] = list of power\n",
    "    - x_model: dict[sid][freq] = list of power\n",
    "    - k_freq: 取前k个频率\n",
    "    - higher: 'model' or 'human'\n",
    "    \"\"\"\n",
    "    assert x_human.keys() == x_model.keys()\n",
    "    correct = 0\n",
    "\n",
    "    for sid in x_human.keys():\n",
    "        power_h = np.sum(x_human[sid][1])\n",
    "        power_m = np.sum(x_model[sid][1])\n",
    "\n",
    "        if higher == 'model':\n",
    "            correct += int(power_m > power_h + eps)\n",
    "        else:\n",
    "            correct += int(power_h > power_m + eps)\n",
    "    return correct / len(x_human)"
   ]
  },
  {
   "cell_type": "code",
   "execution_count": 43,
   "metadata": {},
   "outputs": [],
   "source": [
    "datasets = ['pubmed', 'writing', 'xsum']\n",
    "models = ['gpt-4', 'gpt-3.5', 'gpt-3']\n",
    "labels = ['original', 'sampled']\n",
    "generated_models = ['bigram', 'gpt2xl', 'mistral']"
   ]
  },
  {
   "cell_type": "code",
   "execution_count": 44,
   "metadata": {},
   "outputs": [],
   "source": [
    "def classify_pair_with_path(original, sampled, higher='model'):\n",
    "    spec_orig = SpectrumData(original)\n",
    "    x_human = spec_orig.get_dict()\n",
    "    spec_samp = SpectrumData(sampled)\n",
    "    x_model = spec_samp.get_dict()\n",
    "    accuracy = classify_pair(x_human=x_human, x_model=x_model, higher=higher)\n",
    "    return accuracy"
   ]
  },
  {
   "cell_type": "code",
   "execution_count": 45,
   "metadata": {},
   "outputs": [
    {
     "name": "stdout",
     "output_type": "stream",
     "text": [
      "pubmed:\n",
      "    gpt-4:\n",
      "        bigram:\n",
      "            0.4200\n",
      "        gpt2xl:\n",
      "            0.4200\n",
      "        mistral:\n",
      "            0.4667\n",
      "    gpt-3.5:\n",
      "        bigram:\n",
      "            0.4600\n",
      "        gpt2xl:\n",
      "            0.4067\n",
      "        mistral:\n",
      "            0.2800\n",
      "    gpt-3:\n",
      "        bigram:\n"
     ]
    },
    {
     "ename": "KeyError",
     "evalue": "1",
     "output_type": "error",
     "traceback": [
      "\u001b[0;31m---------------------------------------------------------------------------\u001b[0m",
      "\u001b[0;31mKeyError\u001b[0m                                  Traceback (most recent call last)",
      "Cell \u001b[0;32mIn[45], line 9\u001b[0m\n\u001b[1;32m      7\u001b[0m original \u001b[38;5;241m=\u001b[39m \u001b[38;5;124mf\u001b[39m\u001b[38;5;124m\"\u001b[39m\u001b[38;5;124m../data/\u001b[39m\u001b[38;5;132;01m{\u001b[39;00mdataset\u001b[38;5;132;01m}\u001b[39;00m\u001b[38;5;124m/\u001b[39m\u001b[38;5;132;01m{\u001b[39;00mdataset\u001b[38;5;132;01m}\u001b[39;00m\u001b[38;5;124m_\u001b[39m\u001b[38;5;132;01m{\u001b[39;00mmodel\u001b[38;5;132;01m}\u001b[39;00m\u001b[38;5;124m.original.\u001b[39m\u001b[38;5;132;01m{\u001b[39;00mgenerated_model\u001b[38;5;132;01m}\u001b[39;00m\u001b[38;5;124m.nllzs.wavelet.txt\u001b[39m\u001b[38;5;124m\"\u001b[39m\n\u001b[1;32m      8\u001b[0m sampled \u001b[38;5;241m=\u001b[39m \u001b[38;5;124mf\u001b[39m\u001b[38;5;124m\"\u001b[39m\u001b[38;5;124m../data/\u001b[39m\u001b[38;5;132;01m{\u001b[39;00mdataset\u001b[38;5;132;01m}\u001b[39;00m\u001b[38;5;124m/\u001b[39m\u001b[38;5;132;01m{\u001b[39;00mdataset\u001b[38;5;132;01m}\u001b[39;00m\u001b[38;5;124m_\u001b[39m\u001b[38;5;132;01m{\u001b[39;00mmodel\u001b[38;5;132;01m}\u001b[39;00m\u001b[38;5;124m.sampled.\u001b[39m\u001b[38;5;132;01m{\u001b[39;00mgenerated_model\u001b[38;5;132;01m}\u001b[39;00m\u001b[38;5;124m.nllzs.wavelet.txt\u001b[39m\u001b[38;5;124m\"\u001b[39m\n\u001b[0;32m----> 9\u001b[0m accuracy \u001b[38;5;241m=\u001b[39m \u001b[43mclassify_pair_with_path\u001b[49m\u001b[43m(\u001b[49m\u001b[43moriginal\u001b[49m\u001b[43m,\u001b[49m\u001b[43m \u001b[49m\u001b[43msampled\u001b[49m\u001b[43m)\u001b[49m\n\u001b[1;32m     10\u001b[0m \u001b[38;5;28mprint\u001b[39m(\u001b[38;5;124mf\u001b[39m\u001b[38;5;124m\"\u001b[39m\u001b[38;5;124m            \u001b[39m\u001b[38;5;132;01m{\u001b[39;00maccuracy\u001b[38;5;132;01m:\u001b[39;00m\u001b[38;5;124m.4f\u001b[39m\u001b[38;5;132;01m}\u001b[39;00m\u001b[38;5;124m\"\u001b[39m)\n",
      "Cell \u001b[0;32mIn[44], line 6\u001b[0m, in \u001b[0;36mclassify_pair_with_path\u001b[0;34m(original, sampled, higher)\u001b[0m\n\u001b[1;32m      4\u001b[0m spec_samp \u001b[38;5;241m=\u001b[39m SpectrumData(sampled)\n\u001b[1;32m      5\u001b[0m x_model \u001b[38;5;241m=\u001b[39m spec_samp\u001b[38;5;241m.\u001b[39mget_dict()\n\u001b[0;32m----> 6\u001b[0m accuracy \u001b[38;5;241m=\u001b[39m \u001b[43mclassify_pair\u001b[49m\u001b[43m(\u001b[49m\u001b[43mx_human\u001b[49m\u001b[38;5;241;43m=\u001b[39;49m\u001b[43mx_human\u001b[49m\u001b[43m,\u001b[49m\u001b[43m \u001b[49m\u001b[43mx_model\u001b[49m\u001b[38;5;241;43m=\u001b[39;49m\u001b[43mx_model\u001b[49m\u001b[43m,\u001b[49m\u001b[43m \u001b[49m\u001b[43mhigher\u001b[49m\u001b[38;5;241;43m=\u001b[39;49m\u001b[43mhigher\u001b[49m\u001b[43m)\u001b[49m\n\u001b[1;32m      7\u001b[0m \u001b[38;5;28;01mreturn\u001b[39;00m accuracy\n",
      "Cell \u001b[0;32mIn[42], line 13\u001b[0m, in \u001b[0;36mclassify_pair\u001b[0;34m(x_human, x_model, eps, higher)\u001b[0m\n\u001b[1;32m     10\u001b[0m correct \u001b[38;5;241m=\u001b[39m \u001b[38;5;241m0\u001b[39m\n\u001b[1;32m     12\u001b[0m \u001b[38;5;28;01mfor\u001b[39;00m sid \u001b[38;5;129;01min\u001b[39;00m x_human\u001b[38;5;241m.\u001b[39mkeys():\n\u001b[0;32m---> 13\u001b[0m     power_h \u001b[38;5;241m=\u001b[39m np\u001b[38;5;241m.\u001b[39msum(\u001b[43mx_human\u001b[49m\u001b[43m[\u001b[49m\u001b[43msid\u001b[49m\u001b[43m]\u001b[49m\u001b[43m[\u001b[49m\u001b[38;5;241;43m1\u001b[39;49m\u001b[43m]\u001b[49m)\n\u001b[1;32m     14\u001b[0m     power_m \u001b[38;5;241m=\u001b[39m np\u001b[38;5;241m.\u001b[39msum(x_model[sid][\u001b[38;5;241m1\u001b[39m])\n\u001b[1;32m     16\u001b[0m     \u001b[38;5;28;01mif\u001b[39;00m higher \u001b[38;5;241m==\u001b[39m \u001b[38;5;124m'\u001b[39m\u001b[38;5;124mmodel\u001b[39m\u001b[38;5;124m'\u001b[39m:\n",
      "\u001b[0;31mKeyError\u001b[0m: 1"
     ]
    }
   ],
   "source": [
    "for dataset in datasets:\n",
    "    print(f\"{dataset}:\")\n",
    "    for model in models:\n",
    "        print(f\"    {model}:\")\n",
    "        for generated_model in generated_models:\n",
    "            print(f\"        {generated_model}:\")\n",
    "            original = f\"../data/{dataset}/{dataset}_{model}.original.{generated_model}.nllzs.wavelet.txt\"\n",
    "            sampled = f\"../data/{dataset}/{dataset}_{model}.sampled.{generated_model}.nllzs.wavelet.txt\"\n",
    "            accuracy = classify_pair_with_path(original, sampled)\n",
    "            print(f\"            {accuracy:.4f}\")"
   ]
  },
  {
   "cell_type": "code",
   "execution_count": null,
   "metadata": {},
   "outputs": [],
   "source": []
  }
 ],
 "metadata": {
  "kernelspec": {
   "display_name": "nlp",
   "language": "python",
   "name": "python3"
  },
  "language_info": {
   "codemirror_mode": {
    "name": "ipython",
    "version": 3
   },
   "file_extension": ".py",
   "mimetype": "text/x-python",
   "name": "python",
   "nbconvert_exporter": "python",
   "pygments_lexer": "ipython3",
   "version": "3.10.16"
  }
 },
 "nbformat": 4,
 "nbformat_minor": 2
}
